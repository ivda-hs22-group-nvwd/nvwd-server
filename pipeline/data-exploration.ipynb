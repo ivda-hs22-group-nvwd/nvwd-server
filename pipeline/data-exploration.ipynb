{
 "cells": [
  {
   "cell_type": "markdown",
   "metadata": {},
   "source": [
    "# IMPORT"
   ]
  },
  {
   "cell_type": "code",
   "execution_count": 1,
   "metadata": {},
   "outputs": [
    {
     "name": "stderr",
     "output_type": "stream",
     "text": [
      "/home/nicolas/Code/nvwd-server/env/lib/python3.10/site-packages/tqdm/auto.py:22: TqdmWarning: IProgress not found. Please update jupyter and ipywidgets. See https://ipywidgets.readthedocs.io/en/stable/user_install.html\n",
      "  from .autonotebook import tqdm as notebook_tqdm\n"
     ]
    }
   ],
   "source": [
    "import numpy as np\n",
    "import pandas as pd\n",
    "from sklearn.decomposition import PCA\n",
    "import matplotlib.pyplot as plt\n",
    "from sklearn.metrics.pairwise import cosine_similarity\n",
    "import time\n",
    "from tqdm import tqdm\n",
    "import matplotlib.pyplot as plt\n",
    "from matplotlib.colors import ListedColormap\n",
    "from sklearn import datasets\n",
    "from sklearn.model_selection import train_test_split\n",
    "from sklearn.preprocessing import StandardScaler\n",
    "from sklearn.preprocessing import LabelBinarizer\n",
    "from sklearn.preprocessing import LabelEncoder\n",
    "from sklearn.neighbors import KNeighborsClassifier, NeighborhoodComponentsAnalysis\n",
    "from pandas_profiling import ProfileReport\n",
    "from sklearn.pipeline import Pipeline\n",
    "from sklearn.inspection import DecisionBoundaryDisplay\n",
    "from sklearn.metrics import classification_report\n",
    "from sklearn.metrics import confusion_matrix\n",
    "import seaborn as sns\n",
    "from preprocess import preprocess\n",
    "from preprocess import normalize\n",
    "from sklearn_pandas import DataFrameMapper\n",
    "import sqlite3 as sq\n",
    "import os\n",
    "%matplotlib inline"
   ]
  },
  {
   "cell_type": "code",
   "execution_count": 2,
   "metadata": {},
   "outputs": [],
   "source": [
    "df = pd.read_csv('../data/profiles_revised.csv')\n",
    "df.columns = df.columns.str.replace('\\t', '') # needed?\n",
    "origin = df.columns"
   ]
  },
  {
   "cell_type": "code",
   "execution_count": 3,
   "metadata": {},
   "outputs": [],
   "source": [
    "def print_col_values(list, filename):\n",
    "    with open(r'{}.txt'.format(filename), 'w') as fp:\n",
    "        for element in list:\n",
    "            fp.write(\"{}\\n\".format(element))"
   ]
  },
  {
   "cell_type": "code",
   "execution_count": 4,
   "metadata": {},
   "outputs": [],
   "source": [
    "def df_distinct_values(df, folder):\n",
    "    if not os.path.exists(folder):\n",
    "        os.makedirs('./exploration/'+folder)\n",
    "    for (index, colname) in enumerate(df.columns):\n",
    "        #print(index, colname)\n",
    "        distinc_values = df[colname].unique()\n",
    "        print_col_values(list=distinc_values, filename='./exploration/{}/{}-{}-values'.format(folder, index, colname))"
   ]
  },
  {
   "cell_type": "code",
   "execution_count": 5,
   "metadata": {},
   "outputs": [],
   "source": [
    "df_distinct_values(df=df, folder='origin')"
   ]
  },
  {
   "cell_type": "code",
   "execution_count": 6,
   "metadata": {},
   "outputs": [],
   "source": [
    "#profile = ProfileReport(df, title='Pandas Profilign Report')\n",
    "#profile.to_notebook_iframe()\n",
    "#profile.to_file('./exploration/pandas_profiling_data_report.html')"
   ]
  },
  {
   "cell_type": "markdown",
   "metadata": {},
   "source": [
    "# CLEAN"
   ]
  },
  {
   "cell_type": "code",
   "execution_count": 7,
   "metadata": {},
   "outputs": [],
   "source": [
    "#df = df[['age', 'body_type']]\n",
    "df_clean = preprocess(df.columns, df)"
   ]
  },
  {
   "cell_type": "code",
   "execution_count": 8,
   "metadata": {},
   "outputs": [],
   "source": [
    "# TODO: fix '\\'\n",
    "#df_distinct_values(df=df_clean, folder='cleaned')"
   ]
  },
  {
   "cell_type": "markdown",
   "metadata": {},
   "source": [
    "# SAVE"
   ]
  },
  {
   "cell_type": "code",
   "execution_count": 9,
   "metadata": {},
   "outputs": [],
   "source": [
    "df_clean.to_csv('./data/cleaned.csv')"
   ]
  },
  {
   "cell_type": "code",
   "execution_count": 10,
   "metadata": {},
   "outputs": [],
   "source": [
    "#table_name = 'okcupid_clean'\n",
    "#table_path = './data/'+ table_name +'_db'\n",
    "#conn = sq.connect('{}.sqlite'.format(table_path)) # creates file\n",
    "#df_clean.to_sql(table_path, conn, if_exists='replace', index=False) # writes to file\n",
    "#conn.close() # good practice: close connection"
   ]
  },
  {
   "cell_type": "markdown",
   "metadata": {},
   "source": [
    "# STANDARDIZE"
   ]
  },
  {
   "cell_type": "code",
   "execution_count": 11,
   "metadata": {},
   "outputs": [],
   "source": [
    "df_clean.head()\n",
    "sample = df_clean.iloc[:1]"
   ]
  },
  {
   "cell_type": "code",
   "execution_count": 12,
   "metadata": {},
   "outputs": [
    {
     "name": "stdout",
     "output_type": "stream",
     "text": [
      "test\n"
     ]
    }
   ],
   "source": [
    "normalize(df)"
   ]
  },
  {
   "cell_type": "code",
   "execution_count": 13,
   "metadata": {},
   "outputs": [],
   "source": [
    "continuous_cols = ['age', 'height']\n",
    "categorical_cols = ['body_type', 'drinks', 'drugs', 'income', 'job', 'orientation', 'sex', 'smokes',\n",
    "'diet','diet_modifier',\n",
    "'education_status', 'education_institution',\n",
    "'offspring_status', 'offspring_future',\n",
    "'pets_cats', 'pets_dogs',\n",
    "'religion_type', 'religion_modifier',\n",
    "'sign', 'sign_modifier']\n",
    "ethnities_cols = df_clean[df_clean.columns[pd.Series(df_clean.columns).str.startswith('ethnicities')]].columns\n",
    "speaks_cols = df_clean[df_clean.columns[pd.Series(df_clean.columns).str.startswith('speaks')]].columns"
   ]
  },
  {
   "cell_type": "code",
   "execution_count": 14,
   "metadata": {},
   "outputs": [
    {
     "name": "stdout",
     "output_type": "stream",
     "text": [
      "DataFrameMapper(df_out=True, drop_cols=[],\n",
      "                features=[('body_type', LabelEncoder()),\n",
      "                          (['age'], StandardScaler())])\n"
     ]
    }
   ],
   "source": [
    "# Example\n",
    "mapper = DataFrameMapper([\n",
    "  ('body_type', LabelEncoder()),\n",
    "  (['age'], StandardScaler())],\n",
    "  #[(categorical_col, LabelBinarizer()) for categorical_col in categorical_cols],\n",
    "  df_out=True \n",
    ")\n",
    "print(mapper)"
   ]
  },
  {
   "cell_type": "code",
   "execution_count": 15,
   "metadata": {},
   "outputs": [
    {
     "name": "stdout",
     "output_type": "stream",
     "text": [
      "DataFrameMapper(df_out=True, drop_cols=[],\n",
      "                features=[(['age'], StandardScaler()),\n",
      "                          ('body_type', LabelBinarizer()),\n",
      "                          ('drinks', LabelBinarizer()),\n",
      "                          ('drugs', LabelBinarizer()),\n",
      "                          ('income', LabelBinarizer()),\n",
      "                          ('job', LabelBinarizer()),\n",
      "                          ('orientation', LabelBinarizer()),\n",
      "                          ('sex', LabelBinarizer()),\n",
      "                          ('smokes', LabelBinarizer()),\n",
      "                          ('diet', LabelBinarizer()),\n",
      "                          ('diet_modifier', Labe...\n",
      "                          ('education_status', LabelBinarizer()),\n",
      "                          ('education_institution', LabelBinarizer()),\n",
      "                          ('offspring_status', LabelBinarizer()),\n",
      "                          ('offspring_future', LabelBinarizer()),\n",
      "                          ('pets_cats', LabelBinarizer()),\n",
      "                          ('pets_dogs', LabelBinarizer()),\n",
      "                          ('religion_type', LabelBinarizer()),\n",
      "                          ('religion_modifier', LabelBinarizer()),\n",
      "                          ('sign', LabelBinarizer()),\n",
      "                          ('sign_modifier', LabelBinarizer())])\n"
     ]
    }
   ],
   "source": [
    "# Mapper for checking\n",
    "mapper = DataFrameMapper([\n",
    "  #('drinks', LabelEncoder()),\n",
    "  (['age'], StandardScaler())] +\n",
    "  [(categorical_col, LabelBinarizer()) for categorical_col in categorical_cols],\n",
    "  df_out=True \n",
    ")\n",
    "print(mapper)"
   ]
  },
  {
   "cell_type": "code",
   "execution_count": 16,
   "metadata": {},
   "outputs": [
    {
     "data": {
      "text/html": [
       "<style>#sk-container-id-1 {color: black;background-color: white;}#sk-container-id-1 pre{padding: 0;}#sk-container-id-1 div.sk-toggleable {background-color: white;}#sk-container-id-1 label.sk-toggleable__label {cursor: pointer;display: block;width: 100%;margin-bottom: 0;padding: 0.3em;box-sizing: border-box;text-align: center;}#sk-container-id-1 label.sk-toggleable__label-arrow:before {content: \"▸\";float: left;margin-right: 0.25em;color: #696969;}#sk-container-id-1 label.sk-toggleable__label-arrow:hover:before {color: black;}#sk-container-id-1 div.sk-estimator:hover label.sk-toggleable__label-arrow:before {color: black;}#sk-container-id-1 div.sk-toggleable__content {max-height: 0;max-width: 0;overflow: hidden;text-align: left;background-color: #f0f8ff;}#sk-container-id-1 div.sk-toggleable__content pre {margin: 0.2em;color: black;border-radius: 0.25em;background-color: #f0f8ff;}#sk-container-id-1 input.sk-toggleable__control:checked~div.sk-toggleable__content {max-height: 200px;max-width: 100%;overflow: auto;}#sk-container-id-1 input.sk-toggleable__control:checked~label.sk-toggleable__label-arrow:before {content: \"▾\";}#sk-container-id-1 div.sk-estimator input.sk-toggleable__control:checked~label.sk-toggleable__label {background-color: #d4ebff;}#sk-container-id-1 div.sk-label input.sk-toggleable__control:checked~label.sk-toggleable__label {background-color: #d4ebff;}#sk-container-id-1 input.sk-hidden--visually {border: 0;clip: rect(1px 1px 1px 1px);clip: rect(1px, 1px, 1px, 1px);height: 1px;margin: -1px;overflow: hidden;padding: 0;position: absolute;width: 1px;}#sk-container-id-1 div.sk-estimator {font-family: monospace;background-color: #f0f8ff;border: 1px dotted black;border-radius: 0.25em;box-sizing: border-box;margin-bottom: 0.5em;}#sk-container-id-1 div.sk-estimator:hover {background-color: #d4ebff;}#sk-container-id-1 div.sk-parallel-item::after {content: \"\";width: 100%;border-bottom: 1px solid gray;flex-grow: 1;}#sk-container-id-1 div.sk-label:hover label.sk-toggleable__label {background-color: #d4ebff;}#sk-container-id-1 div.sk-serial::before {content: \"\";position: absolute;border-left: 1px solid gray;box-sizing: border-box;top: 0;bottom: 0;left: 50%;z-index: 0;}#sk-container-id-1 div.sk-serial {display: flex;flex-direction: column;align-items: center;background-color: white;padding-right: 0.2em;padding-left: 0.2em;position: relative;}#sk-container-id-1 div.sk-item {position: relative;z-index: 1;}#sk-container-id-1 div.sk-parallel {display: flex;align-items: stretch;justify-content: center;background-color: white;position: relative;}#sk-container-id-1 div.sk-item::before, #sk-container-id-1 div.sk-parallel-item::before {content: \"\";position: absolute;border-left: 1px solid gray;box-sizing: border-box;top: 0;bottom: 0;left: 50%;z-index: -1;}#sk-container-id-1 div.sk-parallel-item {display: flex;flex-direction: column;z-index: 1;position: relative;background-color: white;}#sk-container-id-1 div.sk-parallel-item:first-child::after {align-self: flex-end;width: 50%;}#sk-container-id-1 div.sk-parallel-item:last-child::after {align-self: flex-start;width: 50%;}#sk-container-id-1 div.sk-parallel-item:only-child::after {width: 0;}#sk-container-id-1 div.sk-dashed-wrapped {border: 1px dashed gray;margin: 0 0.4em 0.5em 0.4em;box-sizing: border-box;padding-bottom: 0.4em;background-color: white;}#sk-container-id-1 div.sk-label label {font-family: monospace;font-weight: bold;display: inline-block;line-height: 1.2em;}#sk-container-id-1 div.sk-label-container {text-align: center;}#sk-container-id-1 div.sk-container {/* jupyter's `normalize.less` sets `[hidden] { display: none; }` but bootstrap.min.css set `[hidden] { display: none !important; }` so we also need the `!important` here to be able to override the default hidden behavior on the sphinx rendered scikit-learn.org. See: https://github.com/scikit-learn/scikit-learn/issues/21755 */display: inline-block !important;position: relative;}#sk-container-id-1 div.sk-text-repr-fallback {display: none;}</style><div id=\"sk-container-id-1\" class=\"sk-top-container\"><div class=\"sk-text-repr-fallback\"><pre>DataFrameMapper(df_out=True, drop_cols=[],\n",
       "                features=[([&#x27;age&#x27;], StandardScaler()),\n",
       "                          ([&#x27;height&#x27;], StandardScaler()),\n",
       "                          (&#x27;body_type&#x27;, LabelEncoder()),\n",
       "                          (&#x27;drinks&#x27;, LabelEncoder()), (&#x27;drugs&#x27;, LabelEncoder()),\n",
       "                          (&#x27;income&#x27;, LabelEncoder()), (&#x27;job&#x27;, LabelEncoder()),\n",
       "                          (&#x27;orientation&#x27;, LabelEncoder()),\n",
       "                          (&#x27;sex&#x27;, LabelEncoder()), (&#x27;smokes&#x27;, LabelEncoder()),\n",
       "                          (&#x27;diet&#x27;, LabelEncoder()),\n",
       "                          (&#x27;diet_mo...\n",
       "                          (&#x27;sign_modifier&#x27;, LabelEncoder()),\n",
       "                          (&#x27;ethnicities_hispanic_/_latin&#x27;, LabelEncoder()),\n",
       "                          (&#x27;ethnicities_pacific_islander&#x27;, LabelEncoder()),\n",
       "                          (&#x27;ethnicities_white&#x27;, LabelEncoder()),\n",
       "                          (&#x27;ethnicities_native_american&#x27;, LabelEncoder()),\n",
       "                          (&#x27;ethnicities_middle_eastern&#x27;, LabelEncoder()),\n",
       "                          (&#x27;ethnicities_asian&#x27;, LabelEncoder()),\n",
       "                          (&#x27;ethnicities_other&#x27;, LabelEncoder()),\n",
       "                          (&#x27;ethnicities_black&#x27;, LabelEncoder()), ...])</pre><b>In a Jupyter environment, please rerun this cell to show the HTML representation or trust the notebook. <br />On GitHub, the HTML representation is unable to render, please try loading this page with nbviewer.org.</b></div><div class=\"sk-container\" hidden><div class=\"sk-item\"><div class=\"sk-estimator sk-toggleable\"><input class=\"sk-toggleable__control sk-hidden--visually\" id=\"sk-estimator-id-1\" type=\"checkbox\" checked><label for=\"sk-estimator-id-1\" class=\"sk-toggleable__label sk-toggleable__label-arrow\">DataFrameMapper</label><div class=\"sk-toggleable__content\"><pre>DataFrameMapper(df_out=True, drop_cols=[],\n",
       "                features=[([&#x27;age&#x27;], StandardScaler()),\n",
       "                          ([&#x27;height&#x27;], StandardScaler()),\n",
       "                          (&#x27;body_type&#x27;, LabelEncoder()),\n",
       "                          (&#x27;drinks&#x27;, LabelEncoder()), (&#x27;drugs&#x27;, LabelEncoder()),\n",
       "                          (&#x27;income&#x27;, LabelEncoder()), (&#x27;job&#x27;, LabelEncoder()),\n",
       "                          (&#x27;orientation&#x27;, LabelEncoder()),\n",
       "                          (&#x27;sex&#x27;, LabelEncoder()), (&#x27;smokes&#x27;, LabelEncoder()),\n",
       "                          (&#x27;diet&#x27;, LabelEncoder()),\n",
       "                          (&#x27;diet_mo...\n",
       "                          (&#x27;sign_modifier&#x27;, LabelEncoder()),\n",
       "                          (&#x27;ethnicities_hispanic_/_latin&#x27;, LabelEncoder()),\n",
       "                          (&#x27;ethnicities_pacific_islander&#x27;, LabelEncoder()),\n",
       "                          (&#x27;ethnicities_white&#x27;, LabelEncoder()),\n",
       "                          (&#x27;ethnicities_native_american&#x27;, LabelEncoder()),\n",
       "                          (&#x27;ethnicities_middle_eastern&#x27;, LabelEncoder()),\n",
       "                          (&#x27;ethnicities_asian&#x27;, LabelEncoder()),\n",
       "                          (&#x27;ethnicities_other&#x27;, LabelEncoder()),\n",
       "                          (&#x27;ethnicities_black&#x27;, LabelEncoder()), ...])</pre></div></div></div></div></div>"
      ],
      "text/plain": [
       "DataFrameMapper(df_out=True, drop_cols=[],\n",
       "                features=[(['age'], StandardScaler()),\n",
       "                          (['height'], StandardScaler()),\n",
       "                          ('body_type', LabelEncoder()),\n",
       "                          ('drinks', LabelEncoder()), ('drugs', LabelEncoder()),\n",
       "                          ('income', LabelEncoder()), ('job', LabelEncoder()),\n",
       "                          ('orientation', LabelEncoder()),\n",
       "                          ('sex', LabelEncoder()), ('smokes', LabelEncoder()),\n",
       "                          ('diet', LabelEncoder()),\n",
       "                          ('diet_mo...\n",
       "                          ('sign_modifier', LabelEncoder()),\n",
       "                          ('ethnicities_hispanic_/_latin', LabelEncoder()),\n",
       "                          ('ethnicities_pacific_islander', LabelEncoder()),\n",
       "                          ('ethnicities_white', LabelEncoder()),\n",
       "                          ('ethnicities_native_american', LabelEncoder()),\n",
       "                          ('ethnicities_middle_eastern', LabelEncoder()),\n",
       "                          ('ethnicities_asian', LabelEncoder()),\n",
       "                          ('ethnicities_other', LabelEncoder()),\n",
       "                          ('ethnicities_black', LabelEncoder()), ...])"
      ]
     },
     "execution_count": 16,
     "metadata": {},
     "output_type": "execute_result"
    }
   ],
   "source": [
    "# Real mapper\n",
    "mapper = DataFrameMapper(\n",
    "  [([continuous_col], StandardScaler()) for continuous_col in continuous_cols] +\n",
    "  [(categorical_col, LabelEncoder()) for categorical_col in categorical_cols] +\n",
    "  [(ethnities_col, LabelEncoder()) for ethnities_col in ethnities_cols] +\n",
    "  [(speaks_col, LabelEncoder()) for speaks_col in speaks_cols],\n",
    "  df_out=True \n",
    ")\n",
    "mapper"
   ]
  },
  {
   "cell_type": "code",
   "execution_count": 17,
   "metadata": {},
   "outputs": [],
   "source": [
    "df_std = np.round(mapper.fit_transform(df_clean.copy()),2)"
   ]
  },
  {
   "cell_type": "code",
   "execution_count": 18,
   "metadata": {},
   "outputs": [],
   "source": [
    "#table_name = 'okcupid_std'\n",
    "#table_path = './data/'+ table_name +'_db'\n",
    "#conn = sq.connect('{}.sqlite'.format(table_path)) # creates file\n",
    "#std_df.to_sql(table_path, conn, if_exists='replace', index=False) # writes to file\n",
    "#conn.close() # good practice: close connection"
   ]
  },
  {
   "cell_type": "code",
   "execution_count": 19,
   "metadata": {},
   "outputs": [],
   "source": [
    "table_names = ['okcupid_clean', 'okcupid_std']\n",
    "#table_path = './data/'+ table_name +'_db'\n",
    "\n",
    "dfs = {\n",
    "    \"std_clean\": df_clean,\n",
    "    \"dt_std\": df_std,\n",
    "}\n",
    "\n",
    "with sq.connect('okcupid.sqlite') as db:\n",
    "    df_clean.to_sql('okcupid_clean', db, if_exists='replace', index=True)\n",
    "    df_std.to_sql('okcupid_std', db, if_exists='replace', index=True)\n"
   ]
  },
  {
   "cell_type": "code",
   "execution_count": 20,
   "metadata": {},
   "outputs": [
    {
     "data": {
      "text/html": [
       "<div>\n",
       "<style scoped>\n",
       "    .dataframe tbody tr th:only-of-type {\n",
       "        vertical-align: middle;\n",
       "    }\n",
       "\n",
       "    .dataframe tbody tr th {\n",
       "        vertical-align: top;\n",
       "    }\n",
       "\n",
       "    .dataframe thead th {\n",
       "        text-align: right;\n",
       "    }\n",
       "</style>\n",
       "<table border=\"1\" class=\"dataframe\">\n",
       "  <thead>\n",
       "    <tr style=\"text-align: right;\">\n",
       "      <th></th>\n",
       "      <th>age</th>\n",
       "      <th>body_type</th>\n",
       "      <th>diet</th>\n",
       "      <th>drinks</th>\n",
       "      <th>drugs</th>\n",
       "      <th>height</th>\n",
       "      <th>income</th>\n",
       "      <th>job</th>\n",
       "      <th>orientation</th>\n",
       "      <th>sex</th>\n",
       "      <th>...</th>\n",
       "      <th>speaks_welsh</th>\n",
       "      <th>speaks_sign_language</th>\n",
       "      <th>speaks_khmer</th>\n",
       "      <th>speaks_cebuano</th>\n",
       "      <th>speaks_afrikaans</th>\n",
       "      <th>speaks_albanian</th>\n",
       "      <th>speaks_romanian</th>\n",
       "      <th>speaks_polish</th>\n",
       "      <th>speaks_turkish</th>\n",
       "      <th>speaks_finnish</th>\n",
       "    </tr>\n",
       "  </thead>\n",
       "  <tbody>\n",
       "    <tr>\n",
       "      <th>1</th>\n",
       "      <td>36</td>\n",
       "      <td>average</td>\n",
       "      <td>other</td>\n",
       "      <td>often</td>\n",
       "      <td>sometimes</td>\n",
       "      <td>70.0</td>\n",
       "      <td>80000.0</td>\n",
       "      <td>hospitality / travel</td>\n",
       "      <td>straight</td>\n",
       "      <td>m</td>\n",
       "      <td>...</td>\n",
       "      <td>0</td>\n",
       "      <td>0</td>\n",
       "      <td>0</td>\n",
       "      <td>0</td>\n",
       "      <td>0</td>\n",
       "      <td>0</td>\n",
       "      <td>0</td>\n",
       "      <td>0</td>\n",
       "      <td>0</td>\n",
       "      <td>0</td>\n",
       "    </tr>\n",
       "  </tbody>\n",
       "</table>\n",
       "<p>1 rows × 88 columns</p>\n",
       "</div>"
      ],
      "text/plain": [
       "   age body_type   diet drinks      drugs  height   income  \\\n",
       "1   36   average  other  often  sometimes    70.0  80000.0   \n",
       "\n",
       "                    job orientation sex  ... speaks_welsh  \\\n",
       "1  hospitality / travel    straight   m  ...            0   \n",
       "\n",
       "  speaks_sign_language speaks_khmer speaks_cebuano speaks_afrikaans  \\\n",
       "1                    0            0              0                0   \n",
       "\n",
       "  speaks_albanian  speaks_romanian  speaks_polish  speaks_turkish  \\\n",
       "1               0                0              0               0   \n",
       "\n",
       "   speaks_finnish  \n",
       "1               0  \n",
       "\n",
       "[1 rows x 88 columns]"
      ]
     },
     "execution_count": 20,
     "metadata": {},
     "output_type": "execute_result"
    }
   ],
   "source": [
    "sample"
   ]
  },
  {
   "cell_type": "code",
   "execution_count": 21,
   "metadata": {},
   "outputs": [],
   "source": [
    "#sample = pd.DataFrame({'age': [30], 'body_type': ['fit']})\n",
    "#np.round(mapper.transform(sample), 2)"
   ]
  },
  {
   "cell_type": "code",
   "execution_count": 22,
   "metadata": {},
   "outputs": [
    {
     "data": {
      "text/html": [
       "<div>\n",
       "<style scoped>\n",
       "    .dataframe tbody tr th:only-of-type {\n",
       "        vertical-align: middle;\n",
       "    }\n",
       "\n",
       "    .dataframe tbody tr th {\n",
       "        vertical-align: top;\n",
       "    }\n",
       "\n",
       "    .dataframe thead th {\n",
       "        text-align: right;\n",
       "    }\n",
       "</style>\n",
       "<table border=\"1\" class=\"dataframe\">\n",
       "  <thead>\n",
       "    <tr style=\"text-align: right;\">\n",
       "      <th></th>\n",
       "      <th>age</th>\n",
       "      <th>height</th>\n",
       "      <th>body_type</th>\n",
       "      <th>drinks</th>\n",
       "      <th>drugs</th>\n",
       "      <th>income</th>\n",
       "      <th>job</th>\n",
       "      <th>orientation</th>\n",
       "      <th>sex</th>\n",
       "      <th>smokes</th>\n",
       "      <th>...</th>\n",
       "      <th>speaks_welsh</th>\n",
       "      <th>speaks_sign_language</th>\n",
       "      <th>speaks_khmer</th>\n",
       "      <th>speaks_cebuano</th>\n",
       "      <th>speaks_afrikaans</th>\n",
       "      <th>speaks_albanian</th>\n",
       "      <th>speaks_romanian</th>\n",
       "      <th>speaks_polish</th>\n",
       "      <th>speaks_turkish</th>\n",
       "      <th>speaks_finnish</th>\n",
       "    </tr>\n",
       "  </thead>\n",
       "  <tbody>\n",
       "    <tr>\n",
       "      <th>1</th>\n",
       "      <td>0.49</td>\n",
       "      <td>0.33</td>\n",
       "      <td>2</td>\n",
       "      <td>2</td>\n",
       "      <td>2</td>\n",
       "      <td>6</td>\n",
       "      <td>8</td>\n",
       "      <td>2</td>\n",
       "      <td>1</td>\n",
       "      <td>0</td>\n",
       "      <td>...</td>\n",
       "      <td>0</td>\n",
       "      <td>0</td>\n",
       "      <td>0</td>\n",
       "      <td>0</td>\n",
       "      <td>0</td>\n",
       "      <td>0</td>\n",
       "      <td>0</td>\n",
       "      <td>0</td>\n",
       "      <td>0</td>\n",
       "      <td>0</td>\n",
       "    </tr>\n",
       "  </tbody>\n",
       "</table>\n",
       "<p>1 rows × 87 columns</p>\n",
       "</div>"
      ],
      "text/plain": [
       "    age  height  body_type  drinks  drugs  income  job  orientation  sex  \\\n",
       "1  0.49    0.33          2       2      2       6    8            2    1   \n",
       "\n",
       "   smokes  ...  speaks_welsh  speaks_sign_language  speaks_khmer  \\\n",
       "1       0  ...             0                     0             0   \n",
       "\n",
       "   speaks_cebuano  speaks_afrikaans  speaks_albanian  speaks_romanian  \\\n",
       "1               0                 0                0                0   \n",
       "\n",
       "   speaks_polish  speaks_turkish  speaks_finnish  \n",
       "1              0               0               0  \n",
       "\n",
       "[1 rows x 87 columns]"
      ]
     },
     "execution_count": 22,
     "metadata": {},
     "output_type": "execute_result"
    }
   ],
   "source": [
    "np.round(mapper.transform(sample), 2)"
   ]
  },
  {
   "cell_type": "code",
   "execution_count": 23,
   "metadata": {},
   "outputs": [],
   "source": [
    "# https://scikit-learn.org/stable/modules/preprocessing.html\n",
    "# https://stackoverflow.com/questions/43554821/feature-preprocessing-of-both-continuous-and-categorical-variables-of-integer-t\n",
    "# https://stackoverflow.com/questions/53152627/saving-standardscaler-model-for-use-on-new-datasets?noredirect=1&lq=1\n",
    "# https://stackoverflow.com/questions/38780302/predicting-new-data-using-sklearn-after-standardizing-the-training-data"
   ]
  },
  {
   "cell_type": "markdown",
   "metadata": {},
   "source": [
    "# RESULT"
   ]
  },
  {
   "cell_type": "code",
   "execution_count": 24,
   "metadata": {},
   "outputs": [],
   "source": [
    "#plt.figure(figsize=(5,5))\n",
    "#sns.heatmap(df.corr(), center=0, annot=True)\n",
    "#plt.title('Correlation Map')\n",
    "#plt.show()\n",
    "#plt.savefig('./exploration/correlation-map.png')"
   ]
  },
  {
   "cell_type": "code",
   "execution_count": 25,
   "metadata": {},
   "outputs": [],
   "source": [
    "#plt.figure(figsize=(5,5))\n",
    "#sns.pairplot(data=df, hue='lables', palette='RdBu')\n",
    "#plt.title('Correlation Map')\n",
    "#plt.show()\n",
    "#plt.savefig('./exploration/pairplot.png')"
   ]
  }
 ],
 "metadata": {
  "kernelspec": {
   "display_name": "Python 3.10.6 ('env': venv)",
   "language": "python",
   "name": "python3"
  },
  "language_info": {
   "codemirror_mode": {
    "name": "ipython",
    "version": 3
   },
   "file_extension": ".py",
   "mimetype": "text/x-python",
   "name": "python",
   "nbconvert_exporter": "python",
   "pygments_lexer": "ipython3",
   "version": "3.10.6"
  },
  "orig_nbformat": 4,
  "vscode": {
   "interpreter": {
    "hash": "7858fea20f907e82a18325a5719275b9a86ecdeafce2db0330ef45d5e9f2cec0"
   }
  }
 },
 "nbformat": 4,
 "nbformat_minor": 2
}
