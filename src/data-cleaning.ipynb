{
 "cells": [
  {
   "cell_type": "code",
   "execution_count": null,
   "metadata": {},
   "outputs": [],
   "source": [
    "import pandas as pd\n",
    "import numpy as np\n",
    "import os # DEBUG\n",
    "from glob import glob\n",
    "from pandas_profiling import ProfileReport\n",
    "import yaml\n",
    "import re\n"
   ]
  },
  {
   "cell_type": "code",
   "execution_count": null,
   "metadata": {},
   "outputs": [],
   "source": [
    "PATH_ABS_SRC = os.getcwd()\n",
    "PATH_REL = os.path.dirname(os.getcwd())"
   ]
  },
  {
   "cell_type": "code",
   "execution_count": null,
   "metadata": {},
   "outputs": [],
   "source": [
    "with open(\"naming.yaml\") as stream:\n",
    "    naming = yaml.safe_load(stream)"
   ]
  },
  {
   "cell_type": "code",
   "execution_count": null,
   "metadata": {},
   "outputs": [],
   "source": [
    "df = pd.read_csv('../data/profiles_revised.csv')"
   ]
  },
  {
   "cell_type": "code",
   "execution_count": null,
   "metadata": {},
   "outputs": [],
   "source": [
    "df.head()"
   ]
  },
  {
   "cell_type": "code",
   "execution_count": null,
   "metadata": {},
   "outputs": [],
   "source": [
    "profile = ProfileReport(df, title='Pandas Profilign Report')\n",
    "#profile.to_widgets() # does not show anything\n",
    "profile.to_notebook_iframe()\n",
    "profile.to_file(\"pandas_profiling_data_report.html\")"
   ]
  },
  {
   "cell_type": "code",
   "execution_count": null,
   "metadata": {},
   "outputs": [],
   "source": [
    "def print_col_values(list, filename):\n",
    "    with open(r'{}.txt'.format(filename), 'w') as fp:\n",
    "        for element in list:\n",
    "            fp.write(\"{}\\n\".format(element))"
   ]
  },
  {
   "cell_type": "code",
   "execution_count": null,
   "metadata": {},
   "outputs": [],
   "source": [
    "# Extract Col\n",
    "zodiacs = df.sign.unique()\n",
    "print_col_values(list=zodiacs, filename='zodiacs')\n",
    "\n",
    "ZODIAC_STRING_REPLACMENT = '&rsquo;' # corresponds to \" ' \"\n",
    "\n",
    "# Clean\n",
    "zodiacs = [z for z in zodiacs if str(z) != 'nan'] # remove nan values\n",
    "zodiacs = [v.replace('&rsquo;', '\\'') for v in zodiacs] # replace '\n",
    "\n",
    "# Check\n",
    "print_col_values(list=zodiacs, filename='zodiacs-cleaned')\n",
    "\n"
   ]
  },
  {
   "cell_type": "code",
   "execution_count": null,
   "metadata": {},
   "outputs": [],
   "source": [
    "# copy by value\n",
    "df_zodiac = df.copy()\n",
    "\n",
    "# nan's, and spelling\n",
    "df_zodiac.dropna(inplace=True, subset=['sign']) # remove nan's\n",
    "df_zodiac.shape # (48890, 19) , same as profiler\n",
    "\n",
    "# extract only sign\n",
    "df_zodiac['sign-extracted'] = df_zodiac['sign'].str.split(' ').str[0]\n",
    "\n",
    "# extract sign modifier\n",
    "df_zodiac['sign-modifier-extracted'] = df_zodiac['sign'].str.split(' ').str[1:]\n",
    "df_zodiac['sign-modifier-extracted'] = df_zodiac['sign-modifier-extracted'].apply(lambda y: '' if len(y)==0 else y) # replace empty lists with ''\n",
    "df_zodiac['sign-modifier-extracted'] = df_zodiac['sign-modifier-extracted'].apply(lambda y: ' '.join(y) if len(y)!=0 else y) # join list of strings together\n",
    "df_zodiac['sign-modifier-extracted'] = df_zodiac['sign-modifier-extracted'].str.replace(ZODIAC_STRING_REPLACMENT,'\\'')  # replace \n",
    "\n",
    "# map sign modifier + ordinal classifier\n",
    "mapper_naming_dict = naming['zodiac_hiearchy'] \n",
    "df_zodiac['sign-modifier-extracted-ordinal'] =  df_zodiac['sign-modifier-extracted'].map(mapper_naming_dict).fillna(df_zodiac['sign-modifier-extracted']) # map values from dict according to string\n",
    "df_zodiac[['sign', 'sign-extracted', 'sign-modifier-extracted', 'sign-modifier-extracted-ordinal']]"
   ]
  }
 ],
 "metadata": {
  "kernelspec": {
   "display_name": "Python 3.8.5 ('env': venv)",
   "language": "python",
   "name": "python3"
  },
  "language_info": {
   "codemirror_mode": {
    "name": "ipython",
    "version": 3
   },
   "file_extension": ".py",
   "mimetype": "text/x-python",
   "name": "python",
   "nbconvert_exporter": "python",
   "pygments_lexer": "ipython3",
   "version": "3.8.5"
  },
  "orig_nbformat": 4,
  "vscode": {
   "interpreter": {
    "hash": "1810ffdbcb71ae5fcf06025e105de04d63893ffcafad0347f47a9509230b92c6"
   }
  }
 },
 "nbformat": 4,
 "nbformat_minor": 2
}
