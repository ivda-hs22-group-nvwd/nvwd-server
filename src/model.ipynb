{
 "cells": [
  {
   "cell_type": "markdown",
   "metadata": {},
   "source": [
    "IMPORTS"
   ]
  },
  {
   "cell_type": "code",
   "execution_count": null,
   "metadata": {},
   "outputs": [],
   "source": [
    "import numpy as np\n",
    "import pandas as pd\n",
    "from sklearn.decomposition import PCA\n",
    "import matplotlib.pyplot as plt\n",
    "from sklearn.metrics.pairwise import cosine_similarity\n",
    "%matplotlib inline"
   ]
  },
  {
   "cell_type": "code",
   "execution_count": null,
   "metadata": {},
   "outputs": [],
   "source": [
    "# Load df\n",
    "df = pd.read_csv('cleaned.csv')\n",
    "#df.drop(columns=['Unnamed: 0']) # Old index"
   ]
  },
  {
   "cell_type": "code",
   "execution_count": null,
   "metadata": {},
   "outputs": [],
   "source": [
    "df.head()\n",
    "df.columns"
   ]
  },
  {
   "cell_type": "code",
   "execution_count": null,
   "metadata": {},
   "outputs": [],
   "source": [
    "# extract relevant data\n",
    "df = df[['age', 'body_type', 'diet', 'drinks', 'drugs', 'height', 'orientation', 'sex', 'smokes', 'status', 'offspring_status', 'sign_extracted']]\n",
    "df_ORIG = df.copy()"
   ]
  },
  {
   "cell_type": "code",
   "execution_count": null,
   "metadata": {},
   "outputs": [],
   "source": [
    "labels = cosine_similarity(df)[0] # simulate inputs: assume first row is user input and extrac cosine similarity\n",
    "labels"
   ]
  },
  {
   "cell_type": "code",
   "execution_count": null,
   "metadata": {},
   "outputs": [],
   "source": [
    "SIMILAR_THRESHOLD = 0.8"
   ]
  },
  {
   "cell_type": "code",
   "execution_count": null,
   "metadata": {},
   "outputs": [],
   "source": [
    "labels = ['not similar' if x < SIMILAR_THRESHOLD else \"similar\" for x in labels]\n",
    "labels"
   ]
  },
  {
   "cell_type": "code",
   "execution_count": null,
   "metadata": {},
   "outputs": [],
   "source": [
    "# PCA\n",
    "pca = PCA(n_components=2)\n",
    "principalComponents = pca.fit_transform(df)\n",
    "principalDf = pd.DataFrame(data = principalComponents\n",
    "             , columns = ['principal component 1', 'principal component 2'])"
   ]
  },
  {
   "cell_type": "code",
   "execution_count": null,
   "metadata": {},
   "outputs": [],
   "source": [
    "df['labels'] = labels\n",
    "df.head()"
   ]
  },
  {
   "cell_type": "code",
   "execution_count": null,
   "metadata": {},
   "outputs": [],
   "source": [
    "# append labels / target\n",
    "finalDf = pd.concat([principalDf, df[['labels']]], axis = 1)"
   ]
  },
  {
   "cell_type": "code",
   "execution_count": null,
   "metadata": {},
   "outputs": [],
   "source": [
    "fig = plt.figure(figsize = (8,8))\n",
    "ax = fig.add_subplot(1,1,1) \n",
    "ax.set_xlabel('Principal Component 1', fontsize = 15)\n",
    "ax.set_ylabel('Principal Component 2', fontsize = 15)\n",
    "ax.set_title('2 component PCA', fontsize = 20)\n",
    "targets = ['similar', 'not similar']\n",
    "colors = ['r', 'b']\n",
    "for target, color in zip(targets,colors):\n",
    "    indicesToKeep = finalDf['labels'] == target\n",
    "    ax.scatter(finalDf.loc[indicesToKeep, 'principal component 1']\n",
    "               , finalDf.loc[indicesToKeep, 'principal component 2']\n",
    "               , c = color\n",
    "               , s = 50)\n",
    "ax.legend(targets)\n",
    "ax.grid()"
   ]
  },
  {
   "cell_type": "code",
   "execution_count": null,
   "metadata": {},
   "outputs": [],
   "source": [
    "SIMILARITY_LEVELS=[1, 0.99, 0.9, 0.8, 0.5]\n",
    "START_PERSON=1\n",
    "\n",
    "for level in SIMILARITY_LEVELS:\n",
    "    df = df_ORIG.copy()\n",
    "    # generate lables\n",
    "    # calcualte cosine similarity for first row\n",
    "    labels = cosine_similarity(df)[START_PERSON]\n",
    "    #print(df.iloc[0])\n",
    "\n",
    "    # define label based on cosine score and similariy level\n",
    "    labels = ['not similar' if x < level else \"similar\" for x in labels]\n",
    "\n",
    "    # model\n",
    "    pca = PCA(n_components=2)\n",
    "    principalComponents = pca.fit_transform(df)\n",
    "    principalDf = pd.DataFrame(data = principalComponents\n",
    "                , columns = ['principal component 1', 'principal component 2'])\n",
    "\n",
    "    # append labels / target\n",
    "    df['labels'] = labels\n",
    "    df_labelled = pd.concat([principalDf, df[['labels']]], axis = 1)\n",
    "    pca1x = df_labelled.iloc[START_PERSON]['principal component 1']\n",
    "    pca2y = df_labelled.iloc[START_PERSON]['principal component 2']\n",
    "\n",
    "    # plotting\n",
    "    fig = plt.figure(figsize = (3,3))\n",
    "    ax = fig.add_subplot(1,1,1)\n",
    "    ax.set_xlabel('Principal Component 1', fontsize = 15)\n",
    "    ax.set_ylabel('Principal Component 2', fontsize = 15)\n",
    "    ax.set_title('Similarity Score for level: {}'.format(level), fontsize = 20)\n",
    "    targets = ['similar', 'not similar']\n",
    "    colors = ['r', 'b']\n",
    "    for target, color in zip(targets,colors):\n",
    "        indicesToKeep = df_labelled['labels'] == target\n",
    "        ax.scatter(df_labelled.loc[indicesToKeep, 'principal component 1']\n",
    "                , df_labelled.loc[indicesToKeep, 'principal component 2']\n",
    "                , c = color\n",
    "                , s = 50)\n",
    "    ax.plot(pca1x,pca2y,'go', label='person') \n",
    "    ax.legend(['similar', 'not similar', 'person'])\n",
    "\n",
    "    ax.grid()"
   ]
  },
  {
   "cell_type": "code",
   "execution_count": null,
   "metadata": {},
   "outputs": [],
   "source": [
    "SIMILARITY_LEVELS=[1, 0.99, 0.9, 0.8, 0.75, 0.5]\n",
    "START_PERSON=0\n",
    "for person in range(0,50):\n",
    "    for level in SIMILARITY_LEVELS:\n",
    "        df = df_ORIG.copy()\n",
    "        # generate lables\n",
    "        # calcualte cosine similarity for first row\n",
    "        labels = cosine_similarity(df)[person]\n",
    "        #print(df.iloc[0])\n",
    "\n",
    "        # define label based on cosine score and similariy level\n",
    "        labels = ['not similar' if x < level else \"similar\" for x in labels]\n",
    "\n",
    "        # model\n",
    "        pca = PCA(n_components=2)\n",
    "        principalComponents = pca.fit_transform(df)\n",
    "        principalDf = pd.DataFrame(data = principalComponents\n",
    "                    , columns = ['principal component 1', 'principal component 2'])\n",
    "\n",
    "        # append labels / target\n",
    "        df['labels'] = labels\n",
    "        df_labelled = pd.concat([principalDf, df[['labels']]], axis = 1)\n",
    "        pca1x = df_labelled.iloc[person]['principal component 1']\n",
    "        pca2y = df_labelled.iloc[person]['principal component 2']\n",
    "\n",
    "        # plotting\n",
    "        fig = plt.figure(figsize = (5,5))\n",
    "        ax = fig.add_subplot(1,1,1)\n",
    "        ax.set_xlabel('Principal Component 1', fontsize = 15)\n",
    "        ax.set_ylabel('Principal Component 2', fontsize = 15)\n",
    "        ax.set_title('Similarity Score for level: {}'.format(level), fontsize = 20)\n",
    "        targets = ['similar', 'not similar']\n",
    "        colors = ['r', 'b']\n",
    "        for target, color in zip(targets,colors):\n",
    "            indicesToKeep = df_labelled['labels'] == target\n",
    "            ax.scatter(df_labelled.loc[indicesToKeep, 'principal component 1']\n",
    "                    , df_labelled.loc[indicesToKeep, 'principal component 2']\n",
    "                    , c = color\n",
    "                    , s = 50)\n",
    "        ax.plot(pca1x,pca2y,'go', label='person') \n",
    "        ax.legend(['similar', 'not similar', 'person'])\n",
    "        fig.savefig('plots/similarity-plot-person-{}-level-{}.png'.format(person, level))\n",
    "        ax.grid()"
   ]
  }
 ],
 "metadata": {
  "kernelspec": {
   "display_name": "Python 3.8.5 ('env': venv)",
   "language": "python",
   "name": "python3"
  },
  "language_info": {
   "codemirror_mode": {
    "name": "ipython",
    "version": 3
   },
   "file_extension": ".py",
   "mimetype": "text/x-python",
   "name": "python",
   "nbconvert_exporter": "python",
   "pygments_lexer": "ipython3",
   "version": "3.8.5"
  },
  "orig_nbformat": 4,
  "vscode": {
   "interpreter": {
    "hash": "1810ffdbcb71ae5fcf06025e105de04d63893ffcafad0347f47a9509230b92c6"
   }
  }
 },
 "nbformat": 4,
 "nbformat_minor": 2
}
