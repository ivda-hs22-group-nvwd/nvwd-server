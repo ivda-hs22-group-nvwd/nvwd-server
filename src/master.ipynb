{
 "cells": [
  {
   "cell_type": "markdown",
   "metadata": {},
   "source": [
    "# Imports"
   ]
  },
  {
   "cell_type": "code",
   "execution_count": null,
   "metadata": {},
   "outputs": [],
   "source": [
    "import pandas as pd\n",
    "import numpy as np\n",
    "import os # DEBUG\n",
    "from glob import glob\n",
    "from pandas_profiling import ProfileReport\n",
    "import yaml\n",
    "import re\n",
    "from sklearn.compose import ColumnTransformer\n",
    "from sklearn.preprocessing import OneHotEncoder\n",
    "from sklearn.preprocessing import LabelEncoder\n",
    "from sklearn.preprocessing import StandardScaler\n",
    "from sklearn.preprocessing import MinMaxScaler\n",
    "\n",
    "import category_encoders\n",
    "%matplotlib inline"
   ]
  },
  {
   "cell_type": "markdown",
   "metadata": {},
   "source": [
    "# Config"
   ]
  },
  {
   "cell_type": "code",
   "execution_count": null,
   "metadata": {},
   "outputs": [],
   "source": [
    "PATH_ABS_SRC = os.getcwd()\n",
    "PATH_REL = os.path.dirname(os.getcwd())"
   ]
  },
  {
   "cell_type": "code",
   "execution_count": null,
   "metadata": {},
   "outputs": [],
   "source": [
    "with open(\"naming.yaml\") as stream:\n",
    "    naming = yaml.safe_load(stream)"
   ]
  },
  {
   "cell_type": "markdown",
   "metadata": {},
   "source": [
    "# Load df"
   ]
  },
  {
   "cell_type": "code",
   "execution_count": null,
   "metadata": {},
   "outputs": [],
   "source": [
    "df = pd.read_csv('../data/profiles_revised.csv')"
   ]
  },
  {
   "cell_type": "code",
   "execution_count": null,
   "metadata": {},
   "outputs": [],
   "source": [
    "# CONSTS\n",
    "ZODIAC_STRING_REPLACMENT = '&rsquo;' # corresponds to \" ' \"\n",
    "cols = df.columns.tolist()\n",
    "cols"
   ]
  },
  {
   "cell_type": "markdown",
   "metadata": {},
   "source": [
    "# Cleaning"
   ]
  },
  {
   "cell_type": "code",
   "execution_count": null,
   "metadata": {},
   "outputs": [],
   "source": [
    "# Using standard scaler\n",
    "def std_scaler(df, col_names):\n",
    "    scaled_features = df.copy()\n",
    " \n",
    "    features = scaled_features[col_names]\n",
    "    scaler = StandardScaler().fit(features.values)\n",
    "    features = scaler.transform(features.values)\n",
    " \n",
    "    scaled_features[col_names] = features\n",
    "\n",
    "    return scaled_features\n",
    "\n",
    "\n",
    "# Using min/max scaler\n",
    "def minmax_scaler(df, col_names):\n",
    "    scaled_features = df.copy()\n",
    " \n",
    "    features = scaled_features[col_names]\n",
    "    scaler = MinMaxScaler().fit(features.values)\n",
    "    features = scaler.transform(features.values)\n",
    " \n",
    "    scaled_features[col_names] = features\n",
    "\n",
    "    return scaled_features"
   ]
  },
  {
   "cell_type": "markdown",
   "metadata": {},
   "source": [
    "## Age"
   ]
  },
  {
   "cell_type": "code",
   "execution_count": null,
   "metadata": {},
   "outputs": [],
   "source": [
    "# Remove nan's\n",
    "df.dropna(inplace=True, subset=['age'])\n",
    "\n",
    "# Scale\n",
    "df = std_scaler(df, ['age'])\n"
   ]
  },
  {
   "cell_type": "markdown",
   "metadata": {},
   "source": [
    "# Body Type"
   ]
  },
  {
   "cell_type": "code",
   "execution_count": null,
   "metadata": {},
   "outputs": [],
   "source": [
    "# Remove nan's\n",
    "df.dropna(inplace=True, subset=['body_type'])\n",
    "\n",
    "# Encode body type\n",
    "body_type_encoder = LabelEncoder()\n",
    "body_type_encoder.fit(df['body_type'])\n",
    "encoded_col_body_type = body_type_encoder.transform(df['body_type'])\n",
    "df['body_type'] = encoded_col_body_type\n",
    "\n",
    "# Todo: Consultation whether mapping (clearly unhealthy => -1, not optimal/unknown => 0, else => +1) justifiable "
   ]
  },
  {
   "cell_type": "markdown",
   "metadata": {},
   "source": [
    "# Diet"
   ]
  },
  {
   "cell_type": "code",
   "execution_count": null,
   "metadata": {},
   "outputs": [],
   "source": [
    "# Remove nan's\n",
    "df.dropna(inplace=True, subset=['diet'])\n",
    "\n",
    "# Extract only diet\n",
    "df['diet_extracted'] = df['diet'].str.split(' ').str[-1]\n",
    "\n",
    "# Extract diet modifier\n",
    "df['diet_modifier_extracted'] = df['diet'].str.split(' ').str[:-1]\n",
    "df['diet_modifier_extracted'] = df['diet_modifier_extracted'].apply(lambda y: '' if len(y)==0 else y[0]) # replace empty lists with '' and extract term from list\n",
    "\n",
    "# Todo: Consultation whether further mapping makes sense\n",
    "\n",
    "# Encode diet\n",
    "diet_encoder = LabelEncoder()\n",
    "diet_encoder.fit(df['diet_extracted'])\n",
    "encoded_col_diet = diet_encoder.transform(df['diet_extracted'])\n",
    "df['diet'] = encoded_col_diet\n",
    "\n",
    "# Encode diet modifier\n",
    "diet_modifier_encoder = LabelEncoder()\n",
    "diet_modifier_encoder.fit(df['diet_modifier_extracted'])\n",
    "encoded_col_diet_modifier = diet_modifier_encoder.transform(df['diet_modifier_extracted'])\n",
    "df['diet_modifier'] = encoded_col_diet_modifier\n",
    "\n",
    "\n",
    "# Drop reduandant cols\n",
    "df = df.drop('diet_extracted', axis=1)\n",
    "df = df.drop('diet_modifier_extracted', axis=1)"
   ]
  },
  {
   "cell_type": "markdown",
   "metadata": {},
   "source": [
    "# Drinks"
   ]
  },
  {
   "cell_type": "code",
   "execution_count": null,
   "metadata": {},
   "outputs": [],
   "source": [
    "# Remove nan's\n",
    "df.dropna(inplace=True, subset=['drinks'])\n",
    "\n",
    "# Encode drinks modifier\n",
    "drinks_encoder = LabelEncoder()\n",
    "drinks_encoder.fit(df['drinks'])\n",
    "encoded_col_drinks = drinks_encoder.transform(df['drinks'])\n",
    "df['drinks'] = encoded_col_drinks"
   ]
  },
  {
   "cell_type": "markdown",
   "metadata": {},
   "source": [
    "# Drugs"
   ]
  },
  {
   "cell_type": "code",
   "execution_count": null,
   "metadata": {},
   "outputs": [],
   "source": [
    "# Remove nan's\n",
    "df.dropna(inplace=True, subset=['drugs'])\n",
    "\n",
    "# Encode drugs modifier\n",
    "drinks_encoder = LabelEncoder()\n",
    "drinks_encoder.fit(df['drugs'])\n",
    "encoded_col_drugs = drinks_encoder.transform(df['drugs'])\n",
    "df['drugs'] = encoded_col_drugs"
   ]
  },
  {
   "cell_type": "markdown",
   "metadata": {},
   "source": [
    "# Education"
   ]
  },
  {
   "cell_type": "code",
   "execution_count": null,
   "metadata": {},
   "outputs": [],
   "source": [
    "# Remove nan's\n",
    "df.dropna(inplace=True, subset=['education'])\n",
    "\n",
    "\n",
    "# Extract only education institution\n",
    "# todo find better solution to use the dedicated mapper in naming.yaml\n",
    "def education_institution_mapper(x):\n",
    "    if 'college/university' in x:\n",
    "        return 'college/university'\n",
    "    if 'two-year college' in x:\n",
    "        return 'two-year college'\n",
    "    if 'masters program' in x:\n",
    "        return 'masters program'\n",
    "    if 'ph.d program' in x:\n",
    "        return 'ph.d program'\n",
    "    if 'high school' in x:\n",
    "        return 'high school'\n",
    "    if 'law school' in x:\n",
    "        return 'law school'\n",
    "    if 'med school' in x:\n",
    "        return 'med school'\n",
    "    if 'space camp' in x:\n",
    "        return 'space camp'\n",
    "\n",
    "# Extract only education status\n",
    "def education_status_mapper(x):\n",
    "    if 'dropped out of' in x:\n",
    "        return 'dropped out of'\n",
    "    if 'working on' in x:\n",
    "        return 'working on'\n",
    "    if 'graduated from' in x:\n",
    "        return 'graduated from'\n",
    "\n",
    "\n",
    "df['education_status_extracted'] = df['education'].apply(lambda x: education_status_mapper(x))\n",
    "df['education_institution_extracted'] = df['education'].apply(lambda x: education_institution_mapper(x))\n",
    "\n",
    "\n",
    "# Encode education_status\n",
    "education_status_encoder = LabelEncoder()\n",
    "education_status_encoder.fit(df['education_status_extracted'])\n",
    "encoded_col_education_status = education_status_encoder.transform(df['education_status_extracted'])\n",
    "df['education_status_extracted'] = encoded_col_education_status\n",
    "\n",
    "# Encode diet modifier\n",
    "education_institution_encoder = LabelEncoder()\n",
    "education_institution_encoder.fit(df['education_institution_extracted'])\n",
    "encoded_col_education_institution = education_institution_encoder.transform(df['education_institution_extracted'])\n",
    "df['education_institution_extracted'] = encoded_col_education_institution\n",
    "\n",
    "# Drop reduandant cols\n",
    "df = df.drop('education', axis=1)\n",
    "df"
   ]
  },
  {
   "cell_type": "markdown",
   "metadata": {},
   "source": [
    "# Ethnicity"
   ]
  },
  {
   "cell_type": "code",
   "execution_count": null,
   "metadata": {},
   "outputs": [],
   "source": []
  },
  {
   "cell_type": "markdown",
   "metadata": {},
   "source": [
    "# Height"
   ]
  },
  {
   "cell_type": "code",
   "execution_count": null,
   "metadata": {},
   "outputs": [],
   "source": [
    "# Remove nan's\n",
    "df.dropna(inplace=True, subset=['height'])\n",
    "\n",
    "# Scale\n",
    "df = std_scaler(df, ['height'])"
   ]
  },
  {
   "cell_type": "markdown",
   "metadata": {},
   "source": [
    "# Income"
   ]
  },
  {
   "cell_type": "code",
   "execution_count": null,
   "metadata": {},
   "outputs": [],
   "source": [
    "# Replace -1 entries\n",
    "df['income'] = df['income'].apply(lambda y: np.nan if y==-1 else y) # replace -1 with nan\n",
    "# Todo: Maybe insert non nan but average income (only 5k values after that)\n",
    "\n",
    "# Remove nan's\n",
    "df.dropna(inplace=True, subset=['income'])\n",
    "\n",
    "# Scale\n",
    "df = std_scaler(df, ['income'])\n",
    "df"
   ]
  },
  {
   "cell_type": "markdown",
   "metadata": {},
   "source": [
    "# Job"
   ]
  },
  {
   "cell_type": "code",
   "execution_count": null,
   "metadata": {},
   "outputs": [],
   "source": [
    "# Remove nan's\n",
    "df.dropna(inplace=True, subset=['job'])\n",
    "\n",
    "# Encode drugs modifier\n",
    "job_encoder = LabelEncoder()\n",
    "job_encoder.fit(df['job'])\n",
    "encoded_col_job = job_encoder.transform(df['job'])\n",
    "df['job'] = encoded_col_job\n",
    "df"
   ]
  },
  {
   "cell_type": "markdown",
   "metadata": {},
   "source": [
    "# Offspring"
   ]
  },
  {
   "cell_type": "markdown",
   "metadata": {},
   "source": [
    "# Orientation"
   ]
  },
  {
   "cell_type": "markdown",
   "metadata": {},
   "source": [
    "# Pets"
   ]
  },
  {
   "cell_type": "markdown",
   "metadata": {},
   "source": [
    "# Religion"
   ]
  },
  {
   "cell_type": "markdown",
   "metadata": {},
   "source": [
    "# Sex"
   ]
  },
  {
   "cell_type": "code",
   "execution_count": null,
   "metadata": {},
   "outputs": [],
   "source": [
    "# Remove nan's\n",
    "df.dropna(inplace=True, subset=['sex'])\n",
    "\n",
    "# Encode drugs modifier\n",
    "sex_encoder = LabelEncoder()\n",
    "sex_encoder.fit(df['sex'])\n",
    "encoded_col_sex = sex_encoder.transform(df['sex'])\n",
    "df['sex'] = encoded_col_sex\n",
    "df"
   ]
  },
  {
   "cell_type": "markdown",
   "metadata": {},
   "source": [
    "# Sign"
   ]
  },
  {
   "cell_type": "code",
   "execution_count": null,
   "metadata": {},
   "outputs": [],
   "source": [
    "# Remove nan's\n",
    "df.dropna(inplace=True, subset=['sign'])\n",
    "\n",
    "\n",
    "# Extract only sign\n",
    "df['sign_extracted'] = df['sign'].str.split(' ').str[0]\n",
    "\n",
    "# Extract sign modifier\n",
    "df['sign_modifier_extracted'] = df['sign'].str.split(' ').str[1:]\n",
    "df['sign_modifier_extracted'] = df['sign_modifier_extracted'].apply(lambda y: '' if len(y)==0 else y) # replace empty lists with ''\n",
    "df['sign_modifier_extracted'] = df['sign_modifier_extracted'].apply(lambda y: ' '.join(y) if len(y)!=0 else y) # join list of strings together\n",
    "df['sign_modifier_extracted'] = df['sign_modifier_extracted'].str.replace(ZODIAC_STRING_REPLACMENT,'\\'')  # replace \n",
    "\n",
    "# Encode sign\n",
    "sign_encoder = LabelEncoder()\n",
    "sign_encoder.fit(df['sign_extracted'])\n",
    "encoded_col_sign = sign_encoder.transform(df['sign_extracted'])\n",
    "df['sign_extracted'] = encoded_col_sign\n",
    "\n",
    "# Encode sign modifier\n",
    "sign_modifier_encoder = LabelEncoder()\n",
    "sign_modifier_encoder.fit(df['sign_modifier_extracted'])\n",
    "encoded_col_sign_modifier = sign_modifier_encoder.transform(df['sign_modifier_extracted'])\n",
    "df['sign_modifier_extracted'] = encoded_col_sign_modifier\n",
    "\n",
    "# Drop reduandant cols\n",
    "df = df.drop('sign', axis=1)\n",
    "df"
   ]
  },
  {
   "cell_type": "markdown",
   "metadata": {},
   "source": [
    "# Smokes"
   ]
  },
  {
   "cell_type": "code",
   "execution_count": null,
   "metadata": {},
   "outputs": [],
   "source": [
    "# Remove nan's\n",
    "df.dropna(inplace=True, subset=['smokes'])\n",
    "\n",
    "# Encode smokes modifier\n",
    "smokes_encoder = LabelEncoder()\n",
    "smokes_encoder.fit(df['smokes'])\n",
    "encoded_col_smokes = smokes_encoder.transform(df['smokes'])\n",
    "df['smokes'] = encoded_col_smokes\n",
    "df"
   ]
  },
  {
   "cell_type": "markdown",
   "metadata": {},
   "source": [
    "# Speaks"
   ]
  },
  {
   "cell_type": "markdown",
   "metadata": {},
   "source": [
    "# Status"
   ]
  },
  {
   "cell_type": "code",
   "execution_count": null,
   "metadata": {},
   "outputs": [],
   "source": [
    "# Remove nan's\n",
    "df.dropna(inplace=True, subset=['status'])\n",
    "\n",
    "# Encode drugs modifier\n",
    "status_encoder = LabelEncoder()\n",
    "status_encoder.fit(df['status'])\n",
    "encoded_col_status = status_encoder.transform(df['status'])\n",
    "df['status'] = encoded_col_status\n",
    "df"
   ]
  }
 ],
 "metadata": {
  "kernelspec": {
   "display_name": "Python 3.10.6 64-bit",
   "language": "python",
   "name": "python3"
  },
  "language_info": {
   "codemirror_mode": {
    "name": "ipython",
    "version": 3
   },
   "file_extension": ".py",
   "mimetype": "text/x-python",
   "name": "python",
   "nbconvert_exporter": "python",
   "pygments_lexer": "ipython3",
   "version": "3.10.6"
  },
  "orig_nbformat": 4,
  "vscode": {
   "interpreter": {
    "hash": "916dbcbb3f70747c44a77c7bcd40155683ae19c65e1c03b4aa3499c5328201f1"
   }
  }
 },
 "nbformat": 4,
 "nbformat_minor": 2
}
